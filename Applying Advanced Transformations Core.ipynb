{
 "cells": [
  {
   "cell_type": "markdown",
   "id": "fa4ea33b",
   "metadata": {
    "heading_collapsed": true
   },
   "source": [
    "## Applying Advanced Transformations Core"
   ]
  },
  {
   "cell_type": "markdown",
   "id": "3c80f66b",
   "metadata": {
    "heading_collapsed": true,
    "hidden": true
   },
   "source": [
    "#### Task"
   ]
  },
  {
   "cell_type": "markdown",
   "id": "523b07c5",
   "metadata": {
    "hidden": true
   },
   "source": [
    "I. Clean the files and combine them into one final DataFrame.\n",
    "\n",
    "II. Use your combined DataFrame to answer the following questions.\n",
    "\n",
    "Compare the average weight of super powers who have Super Speed to those who do not.\n",
    "What is the average height of heroes for each publisher?"
   ]
  },
  {
   "cell_type": "markdown",
   "id": "3237159e",
   "metadata": {
    "heading_collapsed": true,
    "hidden": true
   },
   "source": [
    "#### Imports"
   ]
  },
  {
   "cell_type": "code",
   "execution_count": 1,
   "id": "dd3aba86",
   "metadata": {
    "hidden": true
   },
   "outputs": [],
   "source": [
    "## Standard Imports\n",
    "import numpy as np\n",
    "import pandas as pd\n",
    "import matplotlib.pyplot as plt\n",
    "import seaborn as sns\n",
    "## Importing the OS and JSON Modules\n",
    "import os,json"
   ]
  },
  {
   "cell_type": "code",
   "execution_count": 2,
   "id": "5f73faff",
   "metadata": {
    "hidden": true
   },
   "outputs": [],
   "source": [
    "# Loading in the csv's\n",
    "info_df = pd.read_csv('Data/superhero_info - superhero_info.csv')\n",
    "powers_df = pd.read_csv('Data/superhero_powers - superhero_powers.csv')"
   ]
  },
  {
   "cell_type": "markdown",
   "id": "44f52cd9",
   "metadata": {
    "heading_collapsed": true,
    "hidden": true
   },
   "source": [
    "#### Cleaning info_df"
   ]
  },
  {
   "cell_type": "code",
   "execution_count": 3,
   "id": "7a272659",
   "metadata": {
    "hidden": true
   },
   "outputs": [
    {
     "data": {
      "text/html": [
       "<div>\n",
       "<style scoped>\n",
       "    .dataframe tbody tr th:only-of-type {\n",
       "        vertical-align: middle;\n",
       "    }\n",
       "\n",
       "    .dataframe tbody tr th {\n",
       "        vertical-align: top;\n",
       "    }\n",
       "\n",
       "    .dataframe thead th {\n",
       "        text-align: right;\n",
       "    }\n",
       "</style>\n",
       "<table border=\"1\" class=\"dataframe\">\n",
       "  <thead>\n",
       "    <tr style=\"text-align: right;\">\n",
       "      <th></th>\n",
       "      <th>Hero|Publisher</th>\n",
       "      <th>Gender</th>\n",
       "      <th>Race</th>\n",
       "      <th>Alignment</th>\n",
       "      <th>Hair color</th>\n",
       "      <th>Eye color</th>\n",
       "      <th>Skin color</th>\n",
       "      <th>Measurements</th>\n",
       "    </tr>\n",
       "  </thead>\n",
       "  <tbody>\n",
       "    <tr>\n",
       "      <th>0</th>\n",
       "      <td>A-Bomb|Marvel Comics</td>\n",
       "      <td>Male</td>\n",
       "      <td>Human</td>\n",
       "      <td>good</td>\n",
       "      <td>No Hair</td>\n",
       "      <td>yellow</td>\n",
       "      <td>Unknown</td>\n",
       "      <td>{'Height': '203.0 cm', 'Weight': '441.0 kg'}</td>\n",
       "    </tr>\n",
       "    <tr>\n",
       "      <th>1</th>\n",
       "      <td>Abe Sapien|Dark Horse Comics</td>\n",
       "      <td>Male</td>\n",
       "      <td>Icthyo Sapien</td>\n",
       "      <td>good</td>\n",
       "      <td>No Hair</td>\n",
       "      <td>blue</td>\n",
       "      <td>blue</td>\n",
       "      <td>{'Height': '191.0 cm', 'Weight': '65.0 kg'}</td>\n",
       "    </tr>\n",
       "    <tr>\n",
       "      <th>2</th>\n",
       "      <td>Abin Sur|DC Comics</td>\n",
       "      <td>Male</td>\n",
       "      <td>Ungaran</td>\n",
       "      <td>good</td>\n",
       "      <td>No Hair</td>\n",
       "      <td>blue</td>\n",
       "      <td>red</td>\n",
       "      <td>{'Height': '185.0 cm', 'Weight': '90.0 kg'}</td>\n",
       "    </tr>\n",
       "  </tbody>\n",
       "</table>\n",
       "</div>"
      ],
      "text/plain": [
       "                 Hero|Publisher Gender           Race Alignment Hair color  \\\n",
       "0          A-Bomb|Marvel Comics   Male          Human      good    No Hair   \n",
       "1  Abe Sapien|Dark Horse Comics   Male  Icthyo Sapien      good    No Hair   \n",
       "2            Abin Sur|DC Comics   Male        Ungaran      good    No Hair   \n",
       "\n",
       "  Eye color Skin color                                  Measurements  \n",
       "0    yellow    Unknown  {'Height': '203.0 cm', 'Weight': '441.0 kg'}  \n",
       "1      blue       blue   {'Height': '191.0 cm', 'Weight': '65.0 kg'}  \n",
       "2      blue        red   {'Height': '185.0 cm', 'Weight': '90.0 kg'}  "
      ]
     },
     "execution_count": 3,
     "metadata": {},
     "output_type": "execute_result"
    }
   ],
   "source": [
    "# Looking at info_df\n",
    "info_df.head(3)"
   ]
  },
  {
   "cell_type": "code",
   "execution_count": 4,
   "id": "0eab66d8",
   "metadata": {
    "hidden": true,
    "scrolled": true
   },
   "outputs": [],
   "source": [
    "# Replace single quotes with double quotes in the \"Measurements\" column\n",
    "info_df['Measurements'] = info_df['Measurements'].str.replace(\"'\", '\"')\n",
    "\n",
    "# Parse the JSON strings in the \"Measurements\" column\n",
    "info_df['Measurements'] = info_df['Measurements'].apply(json.loads)"
   ]
  },
  {
   "cell_type": "code",
   "execution_count": 5,
   "id": "6207e88d",
   "metadata": {
    "hidden": true
   },
   "outputs": [],
   "source": [
    "# Extract and clean the \"Height\" and \"Weight\" columns\n",
    "info_df['Height'] = info_df['Measurements'].apply(lambda x: float(x['Height'].replace(' cm', '')))\n",
    "info_df['Weight'] = info_df['Measurements'].apply(lambda x: float(x['Weight'].replace(' kg', '')))\n",
    "\n",
    "# Drop the original \"Measurements\" column if no longer needed\n",
    "info_df = info_df.drop(columns=['Measurements'])"
   ]
  },
  {
   "cell_type": "code",
   "execution_count": 6,
   "id": "66403d92",
   "metadata": {
    "hidden": true
   },
   "outputs": [
    {
     "data": {
      "text/html": [
       "<div>\n",
       "<style scoped>\n",
       "    .dataframe tbody tr th:only-of-type {\n",
       "        vertical-align: middle;\n",
       "    }\n",
       "\n",
       "    .dataframe tbody tr th {\n",
       "        vertical-align: top;\n",
       "    }\n",
       "\n",
       "    .dataframe thead th {\n",
       "        text-align: right;\n",
       "    }\n",
       "</style>\n",
       "<table border=\"1\" class=\"dataframe\">\n",
       "  <thead>\n",
       "    <tr style=\"text-align: right;\">\n",
       "      <th></th>\n",
       "      <th>Hero|Publisher</th>\n",
       "      <th>Gender</th>\n",
       "      <th>Race</th>\n",
       "      <th>Alignment</th>\n",
       "      <th>Hair color</th>\n",
       "      <th>Eye color</th>\n",
       "      <th>Skin color</th>\n",
       "      <th>Height</th>\n",
       "      <th>Weight</th>\n",
       "    </tr>\n",
       "  </thead>\n",
       "  <tbody>\n",
       "    <tr>\n",
       "      <th>0</th>\n",
       "      <td>A-Bomb|Marvel Comics</td>\n",
       "      <td>Male</td>\n",
       "      <td>Human</td>\n",
       "      <td>good</td>\n",
       "      <td>No Hair</td>\n",
       "      <td>yellow</td>\n",
       "      <td>Unknown</td>\n",
       "      <td>203.0</td>\n",
       "      <td>441.0</td>\n",
       "    </tr>\n",
       "    <tr>\n",
       "      <th>1</th>\n",
       "      <td>Abe Sapien|Dark Horse Comics</td>\n",
       "      <td>Male</td>\n",
       "      <td>Icthyo Sapien</td>\n",
       "      <td>good</td>\n",
       "      <td>No Hair</td>\n",
       "      <td>blue</td>\n",
       "      <td>blue</td>\n",
       "      <td>191.0</td>\n",
       "      <td>65.0</td>\n",
       "    </tr>\n",
       "    <tr>\n",
       "      <th>2</th>\n",
       "      <td>Abin Sur|DC Comics</td>\n",
       "      <td>Male</td>\n",
       "      <td>Ungaran</td>\n",
       "      <td>good</td>\n",
       "      <td>No Hair</td>\n",
       "      <td>blue</td>\n",
       "      <td>red</td>\n",
       "      <td>185.0</td>\n",
       "      <td>90.0</td>\n",
       "    </tr>\n",
       "  </tbody>\n",
       "</table>\n",
       "</div>"
      ],
      "text/plain": [
       "                 Hero|Publisher Gender           Race Alignment Hair color  \\\n",
       "0          A-Bomb|Marvel Comics   Male          Human      good    No Hair   \n",
       "1  Abe Sapien|Dark Horse Comics   Male  Icthyo Sapien      good    No Hair   \n",
       "2            Abin Sur|DC Comics   Male        Ungaran      good    No Hair   \n",
       "\n",
       "  Eye color Skin color  Height  Weight  \n",
       "0    yellow    Unknown   203.0   441.0  \n",
       "1      blue       blue   191.0    65.0  \n",
       "2      blue        red   185.0    90.0  "
      ]
     },
     "execution_count": 6,
     "metadata": {},
     "output_type": "execute_result"
    }
   ],
   "source": [
    "# Checking for Height and Weight columns\n",
    "info_df.head(3)"
   ]
  },
  {
   "cell_type": "code",
   "execution_count": 7,
   "id": "9daff475",
   "metadata": {
    "hidden": true,
    "scrolled": true
   },
   "outputs": [
    {
     "data": {
      "text/html": [
       "<div>\n",
       "<style scoped>\n",
       "    .dataframe tbody tr th:only-of-type {\n",
       "        vertical-align: middle;\n",
       "    }\n",
       "\n",
       "    .dataframe tbody tr th {\n",
       "        vertical-align: top;\n",
       "    }\n",
       "\n",
       "    .dataframe thead th {\n",
       "        text-align: right;\n",
       "    }\n",
       "</style>\n",
       "<table border=\"1\" class=\"dataframe\">\n",
       "  <thead>\n",
       "    <tr style=\"text-align: right;\">\n",
       "      <th></th>\n",
       "      <th>Gender</th>\n",
       "      <th>Race</th>\n",
       "      <th>Alignment</th>\n",
       "      <th>Hair color</th>\n",
       "      <th>Eye color</th>\n",
       "      <th>Skin color</th>\n",
       "      <th>Height</th>\n",
       "      <th>Weight</th>\n",
       "      <th>Hero</th>\n",
       "      <th>Publisher</th>\n",
       "    </tr>\n",
       "  </thead>\n",
       "  <tbody>\n",
       "    <tr>\n",
       "      <th>0</th>\n",
       "      <td>Male</td>\n",
       "      <td>Human</td>\n",
       "      <td>good</td>\n",
       "      <td>No Hair</td>\n",
       "      <td>yellow</td>\n",
       "      <td>Unknown</td>\n",
       "      <td>203.0</td>\n",
       "      <td>441.0</td>\n",
       "      <td>A-Bomb</td>\n",
       "      <td>Marvel Comics</td>\n",
       "    </tr>\n",
       "    <tr>\n",
       "      <th>1</th>\n",
       "      <td>Male</td>\n",
       "      <td>Icthyo Sapien</td>\n",
       "      <td>good</td>\n",
       "      <td>No Hair</td>\n",
       "      <td>blue</td>\n",
       "      <td>blue</td>\n",
       "      <td>191.0</td>\n",
       "      <td>65.0</td>\n",
       "      <td>Abe Sapien</td>\n",
       "      <td>Dark Horse Comics</td>\n",
       "    </tr>\n",
       "    <tr>\n",
       "      <th>2</th>\n",
       "      <td>Male</td>\n",
       "      <td>Ungaran</td>\n",
       "      <td>good</td>\n",
       "      <td>No Hair</td>\n",
       "      <td>blue</td>\n",
       "      <td>red</td>\n",
       "      <td>185.0</td>\n",
       "      <td>90.0</td>\n",
       "      <td>Abin Sur</td>\n",
       "      <td>DC Comics</td>\n",
       "    </tr>\n",
       "  </tbody>\n",
       "</table>\n",
       "</div>"
      ],
      "text/plain": [
       "  Gender           Race Alignment Hair color Eye color Skin color  Height  \\\n",
       "0   Male          Human      good    No Hair    yellow    Unknown   203.0   \n",
       "1   Male  Icthyo Sapien      good    No Hair      blue       blue   191.0   \n",
       "2   Male        Ungaran      good    No Hair      blue        red   185.0   \n",
       "\n",
       "   Weight        Hero          Publisher  \n",
       "0   441.0      A-Bomb      Marvel Comics  \n",
       "1    65.0  Abe Sapien  Dark Horse Comics  \n",
       "2    90.0    Abin Sur          DC Comics  "
      ]
     },
     "execution_count": 7,
     "metadata": {},
     "output_type": "execute_result"
    }
   ],
   "source": [
    "# Split the 'Hero|Publisher' column into 'Hero' and 'Publisher' columns\n",
    "info_df[['Hero', 'Publisher']] = info_df['Hero|Publisher'].str.split('|', expand=True)\n",
    "\n",
    "# Drop the original 'Hero|Publisher' column if no longer needed\n",
    "info_df = info_df.drop(columns=['Hero|Publisher'])\n",
    "\n",
    "# Checking the Hero and Publisher columns\n",
    "info_df.head(3)"
   ]
  },
  {
   "cell_type": "markdown",
   "id": "31416ddb",
   "metadata": {
    "heading_collapsed": true,
    "hidden": true
   },
   "source": [
    "#### Cleaning powers_df"
   ]
  },
  {
   "cell_type": "code",
   "execution_count": 8,
   "id": "60293671",
   "metadata": {
    "hidden": true
   },
   "outputs": [
    {
     "data": {
      "text/html": [
       "<div>\n",
       "<style scoped>\n",
       "    .dataframe tbody tr th:only-of-type {\n",
       "        vertical-align: middle;\n",
       "    }\n",
       "\n",
       "    .dataframe tbody tr th {\n",
       "        vertical-align: top;\n",
       "    }\n",
       "\n",
       "    .dataframe thead th {\n",
       "        text-align: right;\n",
       "    }\n",
       "</style>\n",
       "<table border=\"1\" class=\"dataframe\">\n",
       "  <thead>\n",
       "    <tr style=\"text-align: right;\">\n",
       "      <th></th>\n",
       "      <th>hero_names</th>\n",
       "      <th>Powers</th>\n",
       "    </tr>\n",
       "  </thead>\n",
       "  <tbody>\n",
       "    <tr>\n",
       "      <th>0</th>\n",
       "      <td>3-D Man</td>\n",
       "      <td>Agility,Super Strength,Stamina,Super Speed</td>\n",
       "    </tr>\n",
       "    <tr>\n",
       "      <th>1</th>\n",
       "      <td>A-Bomb</td>\n",
       "      <td>Accelerated Healing,Durability,Longevity,Super...</td>\n",
       "    </tr>\n",
       "    <tr>\n",
       "      <th>2</th>\n",
       "      <td>Abe Sapien</td>\n",
       "      <td>Agility,Accelerated Healing,Cold Resistance,Du...</td>\n",
       "    </tr>\n",
       "    <tr>\n",
       "      <th>3</th>\n",
       "      <td>Abin Sur</td>\n",
       "      <td>Lantern Power Ring</td>\n",
       "    </tr>\n",
       "  </tbody>\n",
       "</table>\n",
       "</div>"
      ],
      "text/plain": [
       "   hero_names                                             Powers\n",
       "0     3-D Man         Agility,Super Strength,Stamina,Super Speed\n",
       "1      A-Bomb  Accelerated Healing,Durability,Longevity,Super...\n",
       "2  Abe Sapien  Agility,Accelerated Healing,Cold Resistance,Du...\n",
       "3    Abin Sur                                 Lantern Power Ring"
      ]
     },
     "execution_count": 8,
     "metadata": {},
     "output_type": "execute_result"
    }
   ],
   "source": [
    "powers_df.head(4)"
   ]
  },
  {
   "cell_type": "code",
   "execution_count": 9,
   "id": "e1f2017a",
   "metadata": {
    "hidden": true
   },
   "outputs": [],
   "source": [
    "# Splitting the Powers at each comma\n",
    "powers_df['Powers'] = powers_df['Powers'].str.split(',')"
   ]
  },
  {
   "cell_type": "code",
   "execution_count": 10,
   "id": "e8507372",
   "metadata": {
    "hidden": true
   },
   "outputs": [
    {
     "data": {
      "text/html": [
       "<div>\n",
       "<style scoped>\n",
       "    .dataframe tbody tr th:only-of-type {\n",
       "        vertical-align: middle;\n",
       "    }\n",
       "\n",
       "    .dataframe tbody tr th {\n",
       "        vertical-align: top;\n",
       "    }\n",
       "\n",
       "    .dataframe thead th {\n",
       "        text-align: right;\n",
       "    }\n",
       "</style>\n",
       "<table border=\"1\" class=\"dataframe\">\n",
       "  <thead>\n",
       "    <tr style=\"text-align: right;\">\n",
       "      <th></th>\n",
       "      <th>hero_names</th>\n",
       "      <th>Powers</th>\n",
       "    </tr>\n",
       "  </thead>\n",
       "  <tbody>\n",
       "    <tr>\n",
       "      <th>0</th>\n",
       "      <td>3-D Man</td>\n",
       "      <td>Agility</td>\n",
       "    </tr>\n",
       "    <tr>\n",
       "      <th>0</th>\n",
       "      <td>3-D Man</td>\n",
       "      <td>Super Strength</td>\n",
       "    </tr>\n",
       "    <tr>\n",
       "      <th>0</th>\n",
       "      <td>3-D Man</td>\n",
       "      <td>Stamina</td>\n",
       "    </tr>\n",
       "    <tr>\n",
       "      <th>0</th>\n",
       "      <td>3-D Man</td>\n",
       "      <td>Super Speed</td>\n",
       "    </tr>\n",
       "    <tr>\n",
       "      <th>1</th>\n",
       "      <td>A-Bomb</td>\n",
       "      <td>Accelerated Healing</td>\n",
       "    </tr>\n",
       "  </tbody>\n",
       "</table>\n",
       "</div>"
      ],
      "text/plain": [
       "  hero_names               Powers\n",
       "0    3-D Man              Agility\n",
       "0    3-D Man       Super Strength\n",
       "0    3-D Man              Stamina\n",
       "0    3-D Man          Super Speed\n",
       "1     A-Bomb  Accelerated Healing"
      ]
     },
     "execution_count": 10,
     "metadata": {},
     "output_type": "execute_result"
    }
   ],
   "source": [
    "# Exploding the column of lists\n",
    "exploded = powers_df.explode('Powers')\n",
    "exploded.head()"
   ]
  },
  {
   "cell_type": "code",
   "execution_count": 11,
   "id": "59e4f41e",
   "metadata": {
    "hidden": true
   },
   "outputs": [
    {
     "data": {
      "text/plain": [
       "array(['Agility', 'Super Strength', 'Stamina', 'Super Speed',\n",
       "       'Accelerated Healing', 'Durability', 'Longevity', 'Camouflage',\n",
       "       'Self-Sustenance', 'Cold Resistance', 'Underwater breathing',\n",
       "       'Marksmanship', 'Weapons Master', 'Intelligence', 'Telepathy',\n",
       "       'Immortality', 'Reflexes', 'Enhanced Sight', 'Sub-Mariner',\n",
       "       'Lantern Power Ring', 'Invulnerability', 'Animation',\n",
       "       'Super Breath', 'Dimensional Awareness', 'Flight', 'Size Changing',\n",
       "       'Teleportation', 'Magic', 'Dimensional Travel',\n",
       "       'Molecular Manipulation', 'Energy Manipulation', 'Power Cosmic',\n",
       "       'Energy Absorption', 'Elemental Transmogrification',\n",
       "       'Fire Resistance', 'Natural Armor', 'Heat Resistance',\n",
       "       'Matter Absorption', 'Regeneration', 'Stealth', 'Power Suit',\n",
       "       'Energy Blasts', 'Energy Beams', 'Heat Generation', 'Danger Sense',\n",
       "       'Phasing', 'Force Fields', 'Hypnokinesis', 'Invisibility',\n",
       "       'Enhanced Senses', 'Jump', 'Shapeshifting', 'Elasticity',\n",
       "       'Substance Secretion', 'Enhanced Hearing', 'Adaptation', 'Gliding',\n",
       "       'Natural Weapons', 'Wallcrawling', 'Vision - Thermal',\n",
       "       'Power Augmentation', 'Cryokinesis', 'Duplication',\n",
       "       'Weapon-based Powers', 'Fire Control', 'Enhanced Memory',\n",
       "       'Energy Constructs', 'Power Absorption', 'Time Travel',\n",
       "       'Enhanced Smell', 'Water Control', 'Vision - Telescopic',\n",
       "       'Magnetism', 'Vision - Microscopic', 'Vision - Night',\n",
       "       'Vision - Heat', 'Vision - X-Ray', 'Psionic Powers',\n",
       "       'Toxin and Disease Resistance', 'Animal Attributes',\n",
       "       'Animal Oriented Powers', 'Toxin and Disease Control', 'Empathy',\n",
       "       'Animal Control', 'Darkforce Manipulation', 'Time Manipulation',\n",
       "       'Reality Warping', 'Web Creation', 'Symbiote Costume',\n",
       "       'Telekinesis', 'Levitation', 'Biokinesis', 'Sonar',\n",
       "       'Enhanced Touch', 'Seismic Power', 'Energy Armor',\n",
       "       'Omnilingualism', 'Radiation Immunity', 'Density Control',\n",
       "       'Light Control', 'Illumination', 'Molecular Combustion',\n",
       "       'Astral Travel', 'Precognition', 'Intangibility', 'Illusions',\n",
       "       'Audio Control', 'Sonic Scream', 'Peak Human Condition',\n",
       "       'Vision - Infrared', 'Dexterity', 'Omnitrix', 'Omnipotent',\n",
       "       'Possession', 'Energy Resistance', 'Vision - Cryo', 'Mind Control',\n",
       "       'Mind Blast', 'Clairvoyance', 'Probability Manipulation',\n",
       "       'Death Touch', 'Electrokinesis', 'Gravity Control',\n",
       "       'Technopath/Cyberpath', 'Radar Sense', 'Astral Projection',\n",
       "       'Cloaking', 'Telepathy Resistance', 'Mind Control Resistance',\n",
       "       'Hyperkinesis', 'Spatial Awareness', 'Radiation Control',\n",
       "       'Radiation Absorption', 'Magic Resistance', 'Element Control',\n",
       "       'Plant Control', 'Terrakinesis', 'Power Sense', 'Wind Control',\n",
       "       'Qwardian Power Ring', 'Echolocation', 'Resurrection', 'The Force',\n",
       "       'Summoning', 'Banish', 'Molecular Dissipation',\n",
       "       'Electrical Transport', 'Speed Force', 'Grim Reaping',\n",
       "       'Portal Creation', 'Vitakinesis', 'Projection', 'Insanity',\n",
       "       'Photographic Reflexes', 'Anti-Gravity', 'Thirstokinesis',\n",
       "       'Power Nullifier', 'Weather Control', 'Omnipresent', 'Omniscient',\n",
       "       'Hair Manipulation', 'Nova Force', 'Odin Force', 'Phoenix Force',\n",
       "       'Intuitive aptitude', 'Melting', 'Changing Armor'], dtype=object)"
      ]
     },
     "execution_count": 11,
     "metadata": {},
     "output_type": "execute_result"
    }
   ],
   "source": [
    "# Saving the unique values from the exploded column\n",
    "cols_to_make = exploded['Powers'].dropna().unique()\n",
    "cols_to_make"
   ]
  },
  {
   "cell_type": "code",
   "execution_count": 12,
   "id": "dbafee02",
   "metadata": {
    "hidden": true
   },
   "outputs": [
    {
     "name": "stderr",
     "output_type": "stream",
     "text": [
      "C:\\Users\\cjhun\\AppData\\Local\\Temp\\ipykernel_17768\\1921130655.py:3: PerformanceWarning: DataFrame is highly fragmented.  This is usually the result of calling `frame.insert` many times, which has poor performance.  Consider joining all columns at once using pd.concat(axis=1) instead. To get a de-fragmented frame, use `newframe = frame.copy()`\n",
      "  powers_df[col] = powers_df['Powers'].apply(lambda x: col in x)\n",
      "C:\\Users\\cjhun\\AppData\\Local\\Temp\\ipykernel_17768\\1921130655.py:3: PerformanceWarning: DataFrame is highly fragmented.  This is usually the result of calling `frame.insert` many times, which has poor performance.  Consider joining all columns at once using pd.concat(axis=1) instead. To get a de-fragmented frame, use `newframe = frame.copy()`\n",
      "  powers_df[col] = powers_df['Powers'].apply(lambda x: col in x)\n",
      "C:\\Users\\cjhun\\AppData\\Local\\Temp\\ipykernel_17768\\1921130655.py:3: PerformanceWarning: DataFrame is highly fragmented.  This is usually the result of calling `frame.insert` many times, which has poor performance.  Consider joining all columns at once using pd.concat(axis=1) instead. To get a de-fragmented frame, use `newframe = frame.copy()`\n",
      "  powers_df[col] = powers_df['Powers'].apply(lambda x: col in x)\n",
      "C:\\Users\\cjhun\\AppData\\Local\\Temp\\ipykernel_17768\\1921130655.py:3: PerformanceWarning: DataFrame is highly fragmented.  This is usually the result of calling `frame.insert` many times, which has poor performance.  Consider joining all columns at once using pd.concat(axis=1) instead. To get a de-fragmented frame, use `newframe = frame.copy()`\n",
      "  powers_df[col] = powers_df['Powers'].apply(lambda x: col in x)\n",
      "C:\\Users\\cjhun\\AppData\\Local\\Temp\\ipykernel_17768\\1921130655.py:3: PerformanceWarning: DataFrame is highly fragmented.  This is usually the result of calling `frame.insert` many times, which has poor performance.  Consider joining all columns at once using pd.concat(axis=1) instead. To get a de-fragmented frame, use `newframe = frame.copy()`\n",
      "  powers_df[col] = powers_df['Powers'].apply(lambda x: col in x)\n",
      "C:\\Users\\cjhun\\AppData\\Local\\Temp\\ipykernel_17768\\1921130655.py:3: PerformanceWarning: DataFrame is highly fragmented.  This is usually the result of calling `frame.insert` many times, which has poor performance.  Consider joining all columns at once using pd.concat(axis=1) instead. To get a de-fragmented frame, use `newframe = frame.copy()`\n",
      "  powers_df[col] = powers_df['Powers'].apply(lambda x: col in x)\n",
      "C:\\Users\\cjhun\\AppData\\Local\\Temp\\ipykernel_17768\\1921130655.py:3: PerformanceWarning: DataFrame is highly fragmented.  This is usually the result of calling `frame.insert` many times, which has poor performance.  Consider joining all columns at once using pd.concat(axis=1) instead. To get a de-fragmented frame, use `newframe = frame.copy()`\n",
      "  powers_df[col] = powers_df['Powers'].apply(lambda x: col in x)\n",
      "C:\\Users\\cjhun\\AppData\\Local\\Temp\\ipykernel_17768\\1921130655.py:3: PerformanceWarning: DataFrame is highly fragmented.  This is usually the result of calling `frame.insert` many times, which has poor performance.  Consider joining all columns at once using pd.concat(axis=1) instead. To get a de-fragmented frame, use `newframe = frame.copy()`\n",
      "  powers_df[col] = powers_df['Powers'].apply(lambda x: col in x)\n",
      "C:\\Users\\cjhun\\AppData\\Local\\Temp\\ipykernel_17768\\1921130655.py:3: PerformanceWarning: DataFrame is highly fragmented.  This is usually the result of calling `frame.insert` many times, which has poor performance.  Consider joining all columns at once using pd.concat(axis=1) instead. To get a de-fragmented frame, use `newframe = frame.copy()`\n",
      "  powers_df[col] = powers_df['Powers'].apply(lambda x: col in x)\n",
      "C:\\Users\\cjhun\\AppData\\Local\\Temp\\ipykernel_17768\\1921130655.py:3: PerformanceWarning: DataFrame is highly fragmented.  This is usually the result of calling `frame.insert` many times, which has poor performance.  Consider joining all columns at once using pd.concat(axis=1) instead. To get a de-fragmented frame, use `newframe = frame.copy()`\n",
      "  powers_df[col] = powers_df['Powers'].apply(lambda x: col in x)\n",
      "C:\\Users\\cjhun\\AppData\\Local\\Temp\\ipykernel_17768\\1921130655.py:3: PerformanceWarning: DataFrame is highly fragmented.  This is usually the result of calling `frame.insert` many times, which has poor performance.  Consider joining all columns at once using pd.concat(axis=1) instead. To get a de-fragmented frame, use `newframe = frame.copy()`\n",
      "  powers_df[col] = powers_df['Powers'].apply(lambda x: col in x)\n",
      "C:\\Users\\cjhun\\AppData\\Local\\Temp\\ipykernel_17768\\1921130655.py:3: PerformanceWarning: DataFrame is highly fragmented.  This is usually the result of calling `frame.insert` many times, which has poor performance.  Consider joining all columns at once using pd.concat(axis=1) instead. To get a de-fragmented frame, use `newframe = frame.copy()`\n",
      "  powers_df[col] = powers_df['Powers'].apply(lambda x: col in x)\n",
      "C:\\Users\\cjhun\\AppData\\Local\\Temp\\ipykernel_17768\\1921130655.py:3: PerformanceWarning: DataFrame is highly fragmented.  This is usually the result of calling `frame.insert` many times, which has poor performance.  Consider joining all columns at once using pd.concat(axis=1) instead. To get a de-fragmented frame, use `newframe = frame.copy()`\n",
      "  powers_df[col] = powers_df['Powers'].apply(lambda x: col in x)\n",
      "C:\\Users\\cjhun\\AppData\\Local\\Temp\\ipykernel_17768\\1921130655.py:3: PerformanceWarning: DataFrame is highly fragmented.  This is usually the result of calling `frame.insert` many times, which has poor performance.  Consider joining all columns at once using pd.concat(axis=1) instead. To get a de-fragmented frame, use `newframe = frame.copy()`\n",
      "  powers_df[col] = powers_df['Powers'].apply(lambda x: col in x)\n",
      "C:\\Users\\cjhun\\AppData\\Local\\Temp\\ipykernel_17768\\1921130655.py:3: PerformanceWarning: DataFrame is highly fragmented.  This is usually the result of calling `frame.insert` many times, which has poor performance.  Consider joining all columns at once using pd.concat(axis=1) instead. To get a de-fragmented frame, use `newframe = frame.copy()`\n",
      "  powers_df[col] = powers_df['Powers'].apply(lambda x: col in x)\n",
      "C:\\Users\\cjhun\\AppData\\Local\\Temp\\ipykernel_17768\\1921130655.py:3: PerformanceWarning: DataFrame is highly fragmented.  This is usually the result of calling `frame.insert` many times, which has poor performance.  Consider joining all columns at once using pd.concat(axis=1) instead. To get a de-fragmented frame, use `newframe = frame.copy()`\n",
      "  powers_df[col] = powers_df['Powers'].apply(lambda x: col in x)\n",
      "C:\\Users\\cjhun\\AppData\\Local\\Temp\\ipykernel_17768\\1921130655.py:3: PerformanceWarning: DataFrame is highly fragmented.  This is usually the result of calling `frame.insert` many times, which has poor performance.  Consider joining all columns at once using pd.concat(axis=1) instead. To get a de-fragmented frame, use `newframe = frame.copy()`\n",
      "  powers_df[col] = powers_df['Powers'].apply(lambda x: col in x)\n",
      "C:\\Users\\cjhun\\AppData\\Local\\Temp\\ipykernel_17768\\1921130655.py:3: PerformanceWarning: DataFrame is highly fragmented.  This is usually the result of calling `frame.insert` many times, which has poor performance.  Consider joining all columns at once using pd.concat(axis=1) instead. To get a de-fragmented frame, use `newframe = frame.copy()`\n",
      "  powers_df[col] = powers_df['Powers'].apply(lambda x: col in x)\n",
      "C:\\Users\\cjhun\\AppData\\Local\\Temp\\ipykernel_17768\\1921130655.py:3: PerformanceWarning: DataFrame is highly fragmented.  This is usually the result of calling `frame.insert` many times, which has poor performance.  Consider joining all columns at once using pd.concat(axis=1) instead. To get a de-fragmented frame, use `newframe = frame.copy()`\n",
      "  powers_df[col] = powers_df['Powers'].apply(lambda x: col in x)\n",
      "C:\\Users\\cjhun\\AppData\\Local\\Temp\\ipykernel_17768\\1921130655.py:3: PerformanceWarning: DataFrame is highly fragmented.  This is usually the result of calling `frame.insert` many times, which has poor performance.  Consider joining all columns at once using pd.concat(axis=1) instead. To get a de-fragmented frame, use `newframe = frame.copy()`\n",
      "  powers_df[col] = powers_df['Powers'].apply(lambda x: col in x)\n",
      "C:\\Users\\cjhun\\AppData\\Local\\Temp\\ipykernel_17768\\1921130655.py:3: PerformanceWarning: DataFrame is highly fragmented.  This is usually the result of calling `frame.insert` many times, which has poor performance.  Consider joining all columns at once using pd.concat(axis=1) instead. To get a de-fragmented frame, use `newframe = frame.copy()`\n",
      "  powers_df[col] = powers_df['Powers'].apply(lambda x: col in x)\n",
      "C:\\Users\\cjhun\\AppData\\Local\\Temp\\ipykernel_17768\\1921130655.py:3: PerformanceWarning: DataFrame is highly fragmented.  This is usually the result of calling `frame.insert` many times, which has poor performance.  Consider joining all columns at once using pd.concat(axis=1) instead. To get a de-fragmented frame, use `newframe = frame.copy()`\n",
      "  powers_df[col] = powers_df['Powers'].apply(lambda x: col in x)\n",
      "C:\\Users\\cjhun\\AppData\\Local\\Temp\\ipykernel_17768\\1921130655.py:3: PerformanceWarning: DataFrame is highly fragmented.  This is usually the result of calling `frame.insert` many times, which has poor performance.  Consider joining all columns at once using pd.concat(axis=1) instead. To get a de-fragmented frame, use `newframe = frame.copy()`\n",
      "  powers_df[col] = powers_df['Powers'].apply(lambda x: col in x)\n",
      "C:\\Users\\cjhun\\AppData\\Local\\Temp\\ipykernel_17768\\1921130655.py:3: PerformanceWarning: DataFrame is highly fragmented.  This is usually the result of calling `frame.insert` many times, which has poor performance.  Consider joining all columns at once using pd.concat(axis=1) instead. To get a de-fragmented frame, use `newframe = frame.copy()`\n",
      "  powers_df[col] = powers_df['Powers'].apply(lambda x: col in x)\n",
      "C:\\Users\\cjhun\\AppData\\Local\\Temp\\ipykernel_17768\\1921130655.py:3: PerformanceWarning: DataFrame is highly fragmented.  This is usually the result of calling `frame.insert` many times, which has poor performance.  Consider joining all columns at once using pd.concat(axis=1) instead. To get a de-fragmented frame, use `newframe = frame.copy()`\n",
      "  powers_df[col] = powers_df['Powers'].apply(lambda x: col in x)\n",
      "C:\\Users\\cjhun\\AppData\\Local\\Temp\\ipykernel_17768\\1921130655.py:3: PerformanceWarning: DataFrame is highly fragmented.  This is usually the result of calling `frame.insert` many times, which has poor performance.  Consider joining all columns at once using pd.concat(axis=1) instead. To get a de-fragmented frame, use `newframe = frame.copy()`\n",
      "  powers_df[col] = powers_df['Powers'].apply(lambda x: col in x)\n",
      "C:\\Users\\cjhun\\AppData\\Local\\Temp\\ipykernel_17768\\1921130655.py:3: PerformanceWarning: DataFrame is highly fragmented.  This is usually the result of calling `frame.insert` many times, which has poor performance.  Consider joining all columns at once using pd.concat(axis=1) instead. To get a de-fragmented frame, use `newframe = frame.copy()`\n",
      "  powers_df[col] = powers_df['Powers'].apply(lambda x: col in x)\n",
      "C:\\Users\\cjhun\\AppData\\Local\\Temp\\ipykernel_17768\\1921130655.py:3: PerformanceWarning: DataFrame is highly fragmented.  This is usually the result of calling `frame.insert` many times, which has poor performance.  Consider joining all columns at once using pd.concat(axis=1) instead. To get a de-fragmented frame, use `newframe = frame.copy()`\n",
      "  powers_df[col] = powers_df['Powers'].apply(lambda x: col in x)\n",
      "C:\\Users\\cjhun\\AppData\\Local\\Temp\\ipykernel_17768\\1921130655.py:3: PerformanceWarning: DataFrame is highly fragmented.  This is usually the result of calling `frame.insert` many times, which has poor performance.  Consider joining all columns at once using pd.concat(axis=1) instead. To get a de-fragmented frame, use `newframe = frame.copy()`\n",
      "  powers_df[col] = powers_df['Powers'].apply(lambda x: col in x)\n",
      "C:\\Users\\cjhun\\AppData\\Local\\Temp\\ipykernel_17768\\1921130655.py:3: PerformanceWarning: DataFrame is highly fragmented.  This is usually the result of calling `frame.insert` many times, which has poor performance.  Consider joining all columns at once using pd.concat(axis=1) instead. To get a de-fragmented frame, use `newframe = frame.copy()`\n",
      "  powers_df[col] = powers_df['Powers'].apply(lambda x: col in x)\n",
      "C:\\Users\\cjhun\\AppData\\Local\\Temp\\ipykernel_17768\\1921130655.py:3: PerformanceWarning: DataFrame is highly fragmented.  This is usually the result of calling `frame.insert` many times, which has poor performance.  Consider joining all columns at once using pd.concat(axis=1) instead. To get a de-fragmented frame, use `newframe = frame.copy()`\n",
      "  powers_df[col] = powers_df['Powers'].apply(lambda x: col in x)\n",
      "C:\\Users\\cjhun\\AppData\\Local\\Temp\\ipykernel_17768\\1921130655.py:3: PerformanceWarning: DataFrame is highly fragmented.  This is usually the result of calling `frame.insert` many times, which has poor performance.  Consider joining all columns at once using pd.concat(axis=1) instead. To get a de-fragmented frame, use `newframe = frame.copy()`\n",
      "  powers_df[col] = powers_df['Powers'].apply(lambda x: col in x)\n",
      "C:\\Users\\cjhun\\AppData\\Local\\Temp\\ipykernel_17768\\1921130655.py:3: PerformanceWarning: DataFrame is highly fragmented.  This is usually the result of calling `frame.insert` many times, which has poor performance.  Consider joining all columns at once using pd.concat(axis=1) instead. To get a de-fragmented frame, use `newframe = frame.copy()`\n",
      "  powers_df[col] = powers_df['Powers'].apply(lambda x: col in x)\n",
      "C:\\Users\\cjhun\\AppData\\Local\\Temp\\ipykernel_17768\\1921130655.py:3: PerformanceWarning: DataFrame is highly fragmented.  This is usually the result of calling `frame.insert` many times, which has poor performance.  Consider joining all columns at once using pd.concat(axis=1) instead. To get a de-fragmented frame, use `newframe = frame.copy()`\n",
      "  powers_df[col] = powers_df['Powers'].apply(lambda x: col in x)\n",
      "C:\\Users\\cjhun\\AppData\\Local\\Temp\\ipykernel_17768\\1921130655.py:3: PerformanceWarning: DataFrame is highly fragmented.  This is usually the result of calling `frame.insert` many times, which has poor performance.  Consider joining all columns at once using pd.concat(axis=1) instead. To get a de-fragmented frame, use `newframe = frame.copy()`\n",
      "  powers_df[col] = powers_df['Powers'].apply(lambda x: col in x)\n",
      "C:\\Users\\cjhun\\AppData\\Local\\Temp\\ipykernel_17768\\1921130655.py:3: PerformanceWarning: DataFrame is highly fragmented.  This is usually the result of calling `frame.insert` many times, which has poor performance.  Consider joining all columns at once using pd.concat(axis=1) instead. To get a de-fragmented frame, use `newframe = frame.copy()`\n",
      "  powers_df[col] = powers_df['Powers'].apply(lambda x: col in x)\n",
      "C:\\Users\\cjhun\\AppData\\Local\\Temp\\ipykernel_17768\\1921130655.py:3: PerformanceWarning: DataFrame is highly fragmented.  This is usually the result of calling `frame.insert` many times, which has poor performance.  Consider joining all columns at once using pd.concat(axis=1) instead. To get a de-fragmented frame, use `newframe = frame.copy()`\n",
      "  powers_df[col] = powers_df['Powers'].apply(lambda x: col in x)\n",
      "C:\\Users\\cjhun\\AppData\\Local\\Temp\\ipykernel_17768\\1921130655.py:3: PerformanceWarning: DataFrame is highly fragmented.  This is usually the result of calling `frame.insert` many times, which has poor performance.  Consider joining all columns at once using pd.concat(axis=1) instead. To get a de-fragmented frame, use `newframe = frame.copy()`\n",
      "  powers_df[col] = powers_df['Powers'].apply(lambda x: col in x)\n",
      "C:\\Users\\cjhun\\AppData\\Local\\Temp\\ipykernel_17768\\1921130655.py:3: PerformanceWarning: DataFrame is highly fragmented.  This is usually the result of calling `frame.insert` many times, which has poor performance.  Consider joining all columns at once using pd.concat(axis=1) instead. To get a de-fragmented frame, use `newframe = frame.copy()`\n",
      "  powers_df[col] = powers_df['Powers'].apply(lambda x: col in x)\n",
      "C:\\Users\\cjhun\\AppData\\Local\\Temp\\ipykernel_17768\\1921130655.py:3: PerformanceWarning: DataFrame is highly fragmented.  This is usually the result of calling `frame.insert` many times, which has poor performance.  Consider joining all columns at once using pd.concat(axis=1) instead. To get a de-fragmented frame, use `newframe = frame.copy()`\n",
      "  powers_df[col] = powers_df['Powers'].apply(lambda x: col in x)\n",
      "C:\\Users\\cjhun\\AppData\\Local\\Temp\\ipykernel_17768\\1921130655.py:3: PerformanceWarning: DataFrame is highly fragmented.  This is usually the result of calling `frame.insert` many times, which has poor performance.  Consider joining all columns at once using pd.concat(axis=1) instead. To get a de-fragmented frame, use `newframe = frame.copy()`\n",
      "  powers_df[col] = powers_df['Powers'].apply(lambda x: col in x)\n",
      "C:\\Users\\cjhun\\AppData\\Local\\Temp\\ipykernel_17768\\1921130655.py:3: PerformanceWarning: DataFrame is highly fragmented.  This is usually the result of calling `frame.insert` many times, which has poor performance.  Consider joining all columns at once using pd.concat(axis=1) instead. To get a de-fragmented frame, use `newframe = frame.copy()`\n",
      "  powers_df[col] = powers_df['Powers'].apply(lambda x: col in x)\n",
      "C:\\Users\\cjhun\\AppData\\Local\\Temp\\ipykernel_17768\\1921130655.py:3: PerformanceWarning: DataFrame is highly fragmented.  This is usually the result of calling `frame.insert` many times, which has poor performance.  Consider joining all columns at once using pd.concat(axis=1) instead. To get a de-fragmented frame, use `newframe = frame.copy()`\n",
      "  powers_df[col] = powers_df['Powers'].apply(lambda x: col in x)\n",
      "C:\\Users\\cjhun\\AppData\\Local\\Temp\\ipykernel_17768\\1921130655.py:3: PerformanceWarning: DataFrame is highly fragmented.  This is usually the result of calling `frame.insert` many times, which has poor performance.  Consider joining all columns at once using pd.concat(axis=1) instead. To get a de-fragmented frame, use `newframe = frame.copy()`\n",
      "  powers_df[col] = powers_df['Powers'].apply(lambda x: col in x)\n",
      "C:\\Users\\cjhun\\AppData\\Local\\Temp\\ipykernel_17768\\1921130655.py:3: PerformanceWarning: DataFrame is highly fragmented.  This is usually the result of calling `frame.insert` many times, which has poor performance.  Consider joining all columns at once using pd.concat(axis=1) instead. To get a de-fragmented frame, use `newframe = frame.copy()`\n",
      "  powers_df[col] = powers_df['Powers'].apply(lambda x: col in x)\n",
      "C:\\Users\\cjhun\\AppData\\Local\\Temp\\ipykernel_17768\\1921130655.py:3: PerformanceWarning: DataFrame is highly fragmented.  This is usually the result of calling `frame.insert` many times, which has poor performance.  Consider joining all columns at once using pd.concat(axis=1) instead. To get a de-fragmented frame, use `newframe = frame.copy()`\n",
      "  powers_df[col] = powers_df['Powers'].apply(lambda x: col in x)\n",
      "C:\\Users\\cjhun\\AppData\\Local\\Temp\\ipykernel_17768\\1921130655.py:3: PerformanceWarning: DataFrame is highly fragmented.  This is usually the result of calling `frame.insert` many times, which has poor performance.  Consider joining all columns at once using pd.concat(axis=1) instead. To get a de-fragmented frame, use `newframe = frame.copy()`\n",
      "  powers_df[col] = powers_df['Powers'].apply(lambda x: col in x)\n",
      "C:\\Users\\cjhun\\AppData\\Local\\Temp\\ipykernel_17768\\1921130655.py:3: PerformanceWarning: DataFrame is highly fragmented.  This is usually the result of calling `frame.insert` many times, which has poor performance.  Consider joining all columns at once using pd.concat(axis=1) instead. To get a de-fragmented frame, use `newframe = frame.copy()`\n",
      "  powers_df[col] = powers_df['Powers'].apply(lambda x: col in x)\n",
      "C:\\Users\\cjhun\\AppData\\Local\\Temp\\ipykernel_17768\\1921130655.py:3: PerformanceWarning: DataFrame is highly fragmented.  This is usually the result of calling `frame.insert` many times, which has poor performance.  Consider joining all columns at once using pd.concat(axis=1) instead. To get a de-fragmented frame, use `newframe = frame.copy()`\n",
      "  powers_df[col] = powers_df['Powers'].apply(lambda x: col in x)\n",
      "C:\\Users\\cjhun\\AppData\\Local\\Temp\\ipykernel_17768\\1921130655.py:3: PerformanceWarning: DataFrame is highly fragmented.  This is usually the result of calling `frame.insert` many times, which has poor performance.  Consider joining all columns at once using pd.concat(axis=1) instead. To get a de-fragmented frame, use `newframe = frame.copy()`\n",
      "  powers_df[col] = powers_df['Powers'].apply(lambda x: col in x)\n",
      "C:\\Users\\cjhun\\AppData\\Local\\Temp\\ipykernel_17768\\1921130655.py:3: PerformanceWarning: DataFrame is highly fragmented.  This is usually the result of calling `frame.insert` many times, which has poor performance.  Consider joining all columns at once using pd.concat(axis=1) instead. To get a de-fragmented frame, use `newframe = frame.copy()`\n",
      "  powers_df[col] = powers_df['Powers'].apply(lambda x: col in x)\n",
      "C:\\Users\\cjhun\\AppData\\Local\\Temp\\ipykernel_17768\\1921130655.py:3: PerformanceWarning: DataFrame is highly fragmented.  This is usually the result of calling `frame.insert` many times, which has poor performance.  Consider joining all columns at once using pd.concat(axis=1) instead. To get a de-fragmented frame, use `newframe = frame.copy()`\n",
      "  powers_df[col] = powers_df['Powers'].apply(lambda x: col in x)\n",
      "C:\\Users\\cjhun\\AppData\\Local\\Temp\\ipykernel_17768\\1921130655.py:3: PerformanceWarning: DataFrame is highly fragmented.  This is usually the result of calling `frame.insert` many times, which has poor performance.  Consider joining all columns at once using pd.concat(axis=1) instead. To get a de-fragmented frame, use `newframe = frame.copy()`\n",
      "  powers_df[col] = powers_df['Powers'].apply(lambda x: col in x)\n",
      "C:\\Users\\cjhun\\AppData\\Local\\Temp\\ipykernel_17768\\1921130655.py:3: PerformanceWarning: DataFrame is highly fragmented.  This is usually the result of calling `frame.insert` many times, which has poor performance.  Consider joining all columns at once using pd.concat(axis=1) instead. To get a de-fragmented frame, use `newframe = frame.copy()`\n",
      "  powers_df[col] = powers_df['Powers'].apply(lambda x: col in x)\n",
      "C:\\Users\\cjhun\\AppData\\Local\\Temp\\ipykernel_17768\\1921130655.py:3: PerformanceWarning: DataFrame is highly fragmented.  This is usually the result of calling `frame.insert` many times, which has poor performance.  Consider joining all columns at once using pd.concat(axis=1) instead. To get a de-fragmented frame, use `newframe = frame.copy()`\n",
      "  powers_df[col] = powers_df['Powers'].apply(lambda x: col in x)\n",
      "C:\\Users\\cjhun\\AppData\\Local\\Temp\\ipykernel_17768\\1921130655.py:3: PerformanceWarning: DataFrame is highly fragmented.  This is usually the result of calling `frame.insert` many times, which has poor performance.  Consider joining all columns at once using pd.concat(axis=1) instead. To get a de-fragmented frame, use `newframe = frame.copy()`\n",
      "  powers_df[col] = powers_df['Powers'].apply(lambda x: col in x)\n",
      "C:\\Users\\cjhun\\AppData\\Local\\Temp\\ipykernel_17768\\1921130655.py:3: PerformanceWarning: DataFrame is highly fragmented.  This is usually the result of calling `frame.insert` many times, which has poor performance.  Consider joining all columns at once using pd.concat(axis=1) instead. To get a de-fragmented frame, use `newframe = frame.copy()`\n",
      "  powers_df[col] = powers_df['Powers'].apply(lambda x: col in x)\n",
      "C:\\Users\\cjhun\\AppData\\Local\\Temp\\ipykernel_17768\\1921130655.py:3: PerformanceWarning: DataFrame is highly fragmented.  This is usually the result of calling `frame.insert` many times, which has poor performance.  Consider joining all columns at once using pd.concat(axis=1) instead. To get a de-fragmented frame, use `newframe = frame.copy()`\n",
      "  powers_df[col] = powers_df['Powers'].apply(lambda x: col in x)\n",
      "C:\\Users\\cjhun\\AppData\\Local\\Temp\\ipykernel_17768\\1921130655.py:3: PerformanceWarning: DataFrame is highly fragmented.  This is usually the result of calling `frame.insert` many times, which has poor performance.  Consider joining all columns at once using pd.concat(axis=1) instead. To get a de-fragmented frame, use `newframe = frame.copy()`\n",
      "  powers_df[col] = powers_df['Powers'].apply(lambda x: col in x)\n",
      "C:\\Users\\cjhun\\AppData\\Local\\Temp\\ipykernel_17768\\1921130655.py:3: PerformanceWarning: DataFrame is highly fragmented.  This is usually the result of calling `frame.insert` many times, which has poor performance.  Consider joining all columns at once using pd.concat(axis=1) instead. To get a de-fragmented frame, use `newframe = frame.copy()`\n",
      "  powers_df[col] = powers_df['Powers'].apply(lambda x: col in x)\n",
      "C:\\Users\\cjhun\\AppData\\Local\\Temp\\ipykernel_17768\\1921130655.py:3: PerformanceWarning: DataFrame is highly fragmented.  This is usually the result of calling `frame.insert` many times, which has poor performance.  Consider joining all columns at once using pd.concat(axis=1) instead. To get a de-fragmented frame, use `newframe = frame.copy()`\n",
      "  powers_df[col] = powers_df['Powers'].apply(lambda x: col in x)\n",
      "C:\\Users\\cjhun\\AppData\\Local\\Temp\\ipykernel_17768\\1921130655.py:3: PerformanceWarning: DataFrame is highly fragmented.  This is usually the result of calling `frame.insert` many times, which has poor performance.  Consider joining all columns at once using pd.concat(axis=1) instead. To get a de-fragmented frame, use `newframe = frame.copy()`\n",
      "  powers_df[col] = powers_df['Powers'].apply(lambda x: col in x)\n",
      "C:\\Users\\cjhun\\AppData\\Local\\Temp\\ipykernel_17768\\1921130655.py:3: PerformanceWarning: DataFrame is highly fragmented.  This is usually the result of calling `frame.insert` many times, which has poor performance.  Consider joining all columns at once using pd.concat(axis=1) instead. To get a de-fragmented frame, use `newframe = frame.copy()`\n",
      "  powers_df[col] = powers_df['Powers'].apply(lambda x: col in x)\n",
      "C:\\Users\\cjhun\\AppData\\Local\\Temp\\ipykernel_17768\\1921130655.py:3: PerformanceWarning: DataFrame is highly fragmented.  This is usually the result of calling `frame.insert` many times, which has poor performance.  Consider joining all columns at once using pd.concat(axis=1) instead. To get a de-fragmented frame, use `newframe = frame.copy()`\n",
      "  powers_df[col] = powers_df['Powers'].apply(lambda x: col in x)\n",
      "C:\\Users\\cjhun\\AppData\\Local\\Temp\\ipykernel_17768\\1921130655.py:3: PerformanceWarning: DataFrame is highly fragmented.  This is usually the result of calling `frame.insert` many times, which has poor performance.  Consider joining all columns at once using pd.concat(axis=1) instead. To get a de-fragmented frame, use `newframe = frame.copy()`\n",
      "  powers_df[col] = powers_df['Powers'].apply(lambda x: col in x)\n",
      "C:\\Users\\cjhun\\AppData\\Local\\Temp\\ipykernel_17768\\1921130655.py:3: PerformanceWarning: DataFrame is highly fragmented.  This is usually the result of calling `frame.insert` many times, which has poor performance.  Consider joining all columns at once using pd.concat(axis=1) instead. To get a de-fragmented frame, use `newframe = frame.copy()`\n",
      "  powers_df[col] = powers_df['Powers'].apply(lambda x: col in x)\n",
      "C:\\Users\\cjhun\\AppData\\Local\\Temp\\ipykernel_17768\\1921130655.py:3: PerformanceWarning: DataFrame is highly fragmented.  This is usually the result of calling `frame.insert` many times, which has poor performance.  Consider joining all columns at once using pd.concat(axis=1) instead. To get a de-fragmented frame, use `newframe = frame.copy()`\n",
      "  powers_df[col] = powers_df['Powers'].apply(lambda x: col in x)\n",
      "C:\\Users\\cjhun\\AppData\\Local\\Temp\\ipykernel_17768\\1921130655.py:3: PerformanceWarning: DataFrame is highly fragmented.  This is usually the result of calling `frame.insert` many times, which has poor performance.  Consider joining all columns at once using pd.concat(axis=1) instead. To get a de-fragmented frame, use `newframe = frame.copy()`\n",
      "  powers_df[col] = powers_df['Powers'].apply(lambda x: col in x)\n",
      "C:\\Users\\cjhun\\AppData\\Local\\Temp\\ipykernel_17768\\1921130655.py:3: PerformanceWarning: DataFrame is highly fragmented.  This is usually the result of calling `frame.insert` many times, which has poor performance.  Consider joining all columns at once using pd.concat(axis=1) instead. To get a de-fragmented frame, use `newframe = frame.copy()`\n",
      "  powers_df[col] = powers_df['Powers'].apply(lambda x: col in x)\n"
     ]
    },
    {
     "data": {
      "text/html": [
       "<div>\n",
       "<style scoped>\n",
       "    .dataframe tbody tr th:only-of-type {\n",
       "        vertical-align: middle;\n",
       "    }\n",
       "\n",
       "    .dataframe tbody tr th {\n",
       "        vertical-align: top;\n",
       "    }\n",
       "\n",
       "    .dataframe thead th {\n",
       "        text-align: right;\n",
       "    }\n",
       "</style>\n",
       "<table border=\"1\" class=\"dataframe\">\n",
       "  <thead>\n",
       "    <tr style=\"text-align: right;\">\n",
       "      <th></th>\n",
       "      <th>hero_names</th>\n",
       "      <th>Powers</th>\n",
       "      <th>Agility</th>\n",
       "      <th>Super Strength</th>\n",
       "      <th>Stamina</th>\n",
       "      <th>Super Speed</th>\n",
       "      <th>Accelerated Healing</th>\n",
       "      <th>Durability</th>\n",
       "      <th>Longevity</th>\n",
       "      <th>Camouflage</th>\n",
       "      <th>...</th>\n",
       "      <th>Weather Control</th>\n",
       "      <th>Omnipresent</th>\n",
       "      <th>Omniscient</th>\n",
       "      <th>Hair Manipulation</th>\n",
       "      <th>Nova Force</th>\n",
       "      <th>Odin Force</th>\n",
       "      <th>Phoenix Force</th>\n",
       "      <th>Intuitive aptitude</th>\n",
       "      <th>Melting</th>\n",
       "      <th>Changing Armor</th>\n",
       "    </tr>\n",
       "  </thead>\n",
       "  <tbody>\n",
       "    <tr>\n",
       "      <th>0</th>\n",
       "      <td>3-D Man</td>\n",
       "      <td>[Agility, Super Strength, Stamina, Super Speed]</td>\n",
       "      <td>True</td>\n",
       "      <td>True</td>\n",
       "      <td>True</td>\n",
       "      <td>True</td>\n",
       "      <td>False</td>\n",
       "      <td>False</td>\n",
       "      <td>False</td>\n",
       "      <td>False</td>\n",
       "      <td>...</td>\n",
       "      <td>False</td>\n",
       "      <td>False</td>\n",
       "      <td>False</td>\n",
       "      <td>False</td>\n",
       "      <td>False</td>\n",
       "      <td>False</td>\n",
       "      <td>False</td>\n",
       "      <td>False</td>\n",
       "      <td>False</td>\n",
       "      <td>False</td>\n",
       "    </tr>\n",
       "    <tr>\n",
       "      <th>1</th>\n",
       "      <td>A-Bomb</td>\n",
       "      <td>[Accelerated Healing, Durability, Longevity, S...</td>\n",
       "      <td>False</td>\n",
       "      <td>True</td>\n",
       "      <td>True</td>\n",
       "      <td>False</td>\n",
       "      <td>True</td>\n",
       "      <td>True</td>\n",
       "      <td>True</td>\n",
       "      <td>True</td>\n",
       "      <td>...</td>\n",
       "      <td>False</td>\n",
       "      <td>False</td>\n",
       "      <td>False</td>\n",
       "      <td>False</td>\n",
       "      <td>False</td>\n",
       "      <td>False</td>\n",
       "      <td>False</td>\n",
       "      <td>False</td>\n",
       "      <td>False</td>\n",
       "      <td>False</td>\n",
       "    </tr>\n",
       "  </tbody>\n",
       "</table>\n",
       "<p>2 rows × 169 columns</p>\n",
       "</div>"
      ],
      "text/plain": [
       "  hero_names                                             Powers  Agility  \\\n",
       "0    3-D Man    [Agility, Super Strength, Stamina, Super Speed]     True   \n",
       "1     A-Bomb  [Accelerated Healing, Durability, Longevity, S...    False   \n",
       "\n",
       "   Super Strength  Stamina  Super Speed  Accelerated Healing  Durability  \\\n",
       "0            True     True         True                False       False   \n",
       "1            True     True        False                 True        True   \n",
       "\n",
       "   Longevity  Camouflage  ...  Weather Control  Omnipresent  Omniscient  \\\n",
       "0      False       False  ...            False        False       False   \n",
       "1       True        True  ...            False        False       False   \n",
       "\n",
       "   Hair Manipulation  Nova Force  Odin Force  Phoenix Force  \\\n",
       "0              False       False       False          False   \n",
       "1              False       False       False          False   \n",
       "\n",
       "   Intuitive aptitude  Melting  Changing Armor  \n",
       "0               False    False           False  \n",
       "1               False    False           False  \n",
       "\n",
       "[2 rows x 169 columns]"
      ]
     },
     "execution_count": 12,
     "metadata": {},
     "output_type": "execute_result"
    }
   ],
   "source": [
    "# Using a for loop and str.contains to create the new columns\n",
    "for col in cols_to_make:\n",
    "    powers_df[col] = powers_df['Powers'].apply(lambda x: col in x)\n",
    "powers_df.head(2)"
   ]
  },
  {
   "cell_type": "code",
   "execution_count": 13,
   "id": "33500220",
   "metadata": {
    "hidden": true
   },
   "outputs": [],
   "source": [
    "# removing the Powers column\n",
    "powers_df = powers_df.drop(columns=['Powers'])"
   ]
  },
  {
   "cell_type": "code",
   "execution_count": 14,
   "id": "2b6af4a4",
   "metadata": {
    "hidden": true,
    "scrolled": true
   },
   "outputs": [
    {
     "name": "stderr",
     "output_type": "stream",
     "text": [
      "C:\\Users\\cjhun\\AppData\\Local\\Temp\\ipykernel_17768\\107223499.py:2: PerformanceWarning: DataFrame is highly fragmented.  This is usually the result of calling `frame.insert` many times, which has poor performance.  Consider joining all columns at once using pd.concat(axis=1) instead. To get a de-fragmented frame, use `newframe = frame.copy()`\n",
      "  powers_df['Hero'] = powers_df['hero_names']\n"
     ]
    }
   ],
   "source": [
    "# Rename the \"Hero\" column\n",
    "powers_df['Hero'] = powers_df['hero_names']\n",
    "\n",
    "# Drop the original \"hero_names\" column\n",
    "powers_df = powers_df.drop(columns='hero_names')\n",
    "\n",
    "# Reset the index\n",
    "powers_df = powers_df.reset_index(drop=True)"
   ]
  },
  {
   "cell_type": "markdown",
   "id": "b869eae8",
   "metadata": {
    "heading_collapsed": true,
    "hidden": true
   },
   "source": [
    "#### Combining the DataFrames"
   ]
  },
  {
   "cell_type": "code",
   "execution_count": 15,
   "id": "038b4284",
   "metadata": {
    "hidden": true
   },
   "outputs": [],
   "source": [
    "# Merge the dataframes on the \"Hero\" column\n",
    "combined_df = info_df.merge(powers_df, on='Hero', how='inner')"
   ]
  },
  {
   "cell_type": "code",
   "execution_count": 16,
   "id": "7a96b9cc",
   "metadata": {
    "hidden": true,
    "scrolled": false
   },
   "outputs": [
    {
     "data": {
      "text/html": [
       "<div>\n",
       "<style scoped>\n",
       "    .dataframe tbody tr th:only-of-type {\n",
       "        vertical-align: middle;\n",
       "    }\n",
       "\n",
       "    .dataframe tbody tr th {\n",
       "        vertical-align: top;\n",
       "    }\n",
       "\n",
       "    .dataframe thead th {\n",
       "        text-align: right;\n",
       "    }\n",
       "</style>\n",
       "<table border=\"1\" class=\"dataframe\">\n",
       "  <thead>\n",
       "    <tr style=\"text-align: right;\">\n",
       "      <th></th>\n",
       "      <th>Gender</th>\n",
       "      <th>Race</th>\n",
       "      <th>Alignment</th>\n",
       "      <th>Hair color</th>\n",
       "      <th>Eye color</th>\n",
       "      <th>Skin color</th>\n",
       "      <th>Height</th>\n",
       "      <th>Weight</th>\n",
       "      <th>Hero</th>\n",
       "      <th>Publisher</th>\n",
       "      <th>...</th>\n",
       "      <th>Weather Control</th>\n",
       "      <th>Omnipresent</th>\n",
       "      <th>Omniscient</th>\n",
       "      <th>Hair Manipulation</th>\n",
       "      <th>Nova Force</th>\n",
       "      <th>Odin Force</th>\n",
       "      <th>Phoenix Force</th>\n",
       "      <th>Intuitive aptitude</th>\n",
       "      <th>Melting</th>\n",
       "      <th>Changing Armor</th>\n",
       "    </tr>\n",
       "  </thead>\n",
       "  <tbody>\n",
       "    <tr>\n",
       "      <th>0</th>\n",
       "      <td>Male</td>\n",
       "      <td>Human</td>\n",
       "      <td>good</td>\n",
       "      <td>No Hair</td>\n",
       "      <td>yellow</td>\n",
       "      <td>Unknown</td>\n",
       "      <td>203.0</td>\n",
       "      <td>441.0</td>\n",
       "      <td>A-Bomb</td>\n",
       "      <td>Marvel Comics</td>\n",
       "      <td>...</td>\n",
       "      <td>False</td>\n",
       "      <td>False</td>\n",
       "      <td>False</td>\n",
       "      <td>False</td>\n",
       "      <td>False</td>\n",
       "      <td>False</td>\n",
       "      <td>False</td>\n",
       "      <td>False</td>\n",
       "      <td>False</td>\n",
       "      <td>False</td>\n",
       "    </tr>\n",
       "    <tr>\n",
       "      <th>1</th>\n",
       "      <td>Male</td>\n",
       "      <td>Icthyo Sapien</td>\n",
       "      <td>good</td>\n",
       "      <td>No Hair</td>\n",
       "      <td>blue</td>\n",
       "      <td>blue</td>\n",
       "      <td>191.0</td>\n",
       "      <td>65.0</td>\n",
       "      <td>Abe Sapien</td>\n",
       "      <td>Dark Horse Comics</td>\n",
       "      <td>...</td>\n",
       "      <td>False</td>\n",
       "      <td>False</td>\n",
       "      <td>False</td>\n",
       "      <td>False</td>\n",
       "      <td>False</td>\n",
       "      <td>False</td>\n",
       "      <td>False</td>\n",
       "      <td>False</td>\n",
       "      <td>False</td>\n",
       "      <td>False</td>\n",
       "    </tr>\n",
       "    <tr>\n",
       "      <th>2</th>\n",
       "      <td>Male</td>\n",
       "      <td>Ungaran</td>\n",
       "      <td>good</td>\n",
       "      <td>No Hair</td>\n",
       "      <td>blue</td>\n",
       "      <td>red</td>\n",
       "      <td>185.0</td>\n",
       "      <td>90.0</td>\n",
       "      <td>Abin Sur</td>\n",
       "      <td>DC Comics</td>\n",
       "      <td>...</td>\n",
       "      <td>False</td>\n",
       "      <td>False</td>\n",
       "      <td>False</td>\n",
       "      <td>False</td>\n",
       "      <td>False</td>\n",
       "      <td>False</td>\n",
       "      <td>False</td>\n",
       "      <td>False</td>\n",
       "      <td>False</td>\n",
       "      <td>False</td>\n",
       "    </tr>\n",
       "  </tbody>\n",
       "</table>\n",
       "<p>3 rows × 177 columns</p>\n",
       "</div>"
      ],
      "text/plain": [
       "  Gender           Race Alignment Hair color Eye color Skin color  Height  \\\n",
       "0   Male          Human      good    No Hair    yellow    Unknown   203.0   \n",
       "1   Male  Icthyo Sapien      good    No Hair      blue       blue   191.0   \n",
       "2   Male        Ungaran      good    No Hair      blue        red   185.0   \n",
       "\n",
       "   Weight        Hero          Publisher  ...  Weather Control  Omnipresent  \\\n",
       "0   441.0      A-Bomb      Marvel Comics  ...            False        False   \n",
       "1    65.0  Abe Sapien  Dark Horse Comics  ...            False        False   \n",
       "2    90.0    Abin Sur          DC Comics  ...            False        False   \n",
       "\n",
       "   Omniscient  Hair Manipulation  Nova Force  Odin Force  Phoenix Force  \\\n",
       "0       False              False       False       False          False   \n",
       "1       False              False       False       False          False   \n",
       "2       False              False       False       False          False   \n",
       "\n",
       "   Intuitive aptitude  Melting  Changing Armor  \n",
       "0               False    False           False  \n",
       "1               False    False           False  \n",
       "2               False    False           False  \n",
       "\n",
       "[3 rows x 177 columns]"
      ]
     },
     "execution_count": 16,
     "metadata": {},
     "output_type": "execute_result"
    }
   ],
   "source": [
    "# Viewing the combined_df\n",
    "combined_df.head(3)"
   ]
  },
  {
   "cell_type": "markdown",
   "id": "bb6fd9d2",
   "metadata": {
    "heading_collapsed": true,
    "hidden": true
   },
   "source": [
    "#### Compare the average weight of super powers who have Super Speed to those who do not."
   ]
  },
  {
   "cell_type": "code",
   "execution_count": 17,
   "id": "c5cd438d",
   "metadata": {
    "hidden": true
   },
   "outputs": [
    {
     "name": "stdout",
     "output_type": "stream",
     "text": [
      "Average weight of superheroes with Super Speed: 129.40 kg\n",
      "Average weight of superheroes without Super Speed: 101.77 kg\n"
     ]
    }
   ],
   "source": [
    "avg_weight_w_spd = combined_df[combined_df['Super Speed'] == True]['Weight'].mean()\n",
    "\n",
    "avg_weight_no_spd = combined_df[combined_df['Super Speed'] == False]['Weight'].mean()\n",
    "\n",
    "# Print the results\n",
    "print(f\"Average weight of superheroes with Super Speed: {avg_weight_w_spd:.2f} kg\")\n",
    "print(f\"Average weight of superheroes without Super Speed: {avg_weight_no_spd:.2f} kg\")"
   ]
  },
  {
   "cell_type": "code",
   "execution_count": 22,
   "id": "1b73f710",
   "metadata": {
    "hidden": true,
    "scrolled": true
   },
   "outputs": [
    {
     "data": {
      "image/png": "[encoded data removed]",
      "text/plain": [
       "<Figure size 800x600 with 1 Axes>"
      ]
     },
     "metadata": {},
     "output_type": "display_data"
    }
   ],
   "source": [
    "# Create a bar plot\n",
    "plt.figure(figsize=(8, 6))\n",
    "plt.bar(['With Super Speed', 'Without Super Speed'], [avg_weight_w_spd, avg_weight_no_spd], color=['skyblue', 'lightcoral'])\n",
    "plt.title('Average Weight of Superheroes with and without Super Speed')\n",
    "plt.ylabel('Average Weight (kg)')\n",
    "\n",
    "# Show the plot\n",
    "plt.grid(axis='y', linestyle='--', alpha=0.6)\n",
    "plt.tight_layout()\n",
    "plt.show()"
   ]
  },
  {
   "cell_type": "markdown",
   "id": "d7201562",
   "metadata": {
    "heading_collapsed": true,
    "hidden": true
   },
   "source": [
    "#### What is the average height of heroes for each publisher?"
   ]
  },
  {
   "cell_type": "code",
   "execution_count": 19,
   "id": "25ca85bc",
   "metadata": {
    "hidden": true
   },
   "outputs": [
    {
     "name": "stdout",
     "output_type": "stream",
     "text": [
      "Average Height of Heroes for each publisher: Publisher\n",
      "Image Comics         211.000000\n",
      "Marvel Comics        191.546128\n",
      "DC Comics            181.923913\n",
      "Star Trek            181.500000\n",
      "Team Epic TV         180.750000\n",
      "Unknown              178.000000\n",
      "Dark Horse Comics    176.909091\n",
      "Shueisha             171.500000\n",
      "George Lucas         159.600000\n",
      "Name: Height, dtype: float64\n"
     ]
    }
   ],
   "source": [
    "avg_height_by_publisher = combined_df.groupby('Publisher')['Height'].mean().sort_values(ascending=False)\n",
    "\n",
    "print(f'Average Height of Heroes for each publisher: {avg_height_by_publisher}')"
   ]
  },
  {
   "cell_type": "code",
   "execution_count": 20,
   "id": "37543126",
   "metadata": {
    "hidden": true
   },
   "outputs": [
    {
     "data": {
      "image/png": "[encoded data removed]",
      "text/plain": [
       "<Figure size 1200x600 with 1 Axes>"
      ]
     },
     "metadata": {},
     "output_type": "display_data"
    }
   ],
   "source": [
    "# Creatinga bar plot\n",
    "plt.figure(figsize=(12, 6))  # Set the figure size\n",
    "avg_height_by_publisher.plot(kind='bar', color='skyblue', alpha=0.7)  # Create a bar plot\n",
    "\n",
    "# Customize the plot\n",
    "plt.title('Average Height of Heroes by Publisher')\n",
    "plt.xlabel('Publisher')\n",
    "plt.ylabel('Average Height (cm)')\n",
    "plt.xticks(rotation=45)  # Rotate x-axis labels for better readability\n",
    "plt.grid(axis='y', linestyle='--', alpha=0.6)\n",
    "\n",
    "# Show the plot\n",
    "plt.tight_layout()\n",
    "plt.show()"
   ]
  },
  {
   "cell_type": "code",
   "execution_count": null,
   "id": "3dc7886c",
   "metadata": {
    "hidden": true
   },
   "outputs": [],
   "source": []
  }
 ],
 "metadata": {
  "kernelspec": {
   "display_name": "Python (dojo-env)",
   "language": "python",
   "name": "dojo-env"
  },
  "language_info": {
   "codemirror_mode": {
    "name": "ipython",
    "version": 3
   },
   "file_extension": ".py",
   "mimetype": "text/x-python",
   "name": "python",
   "nbconvert_exporter": "python",
   "pygments_lexer": "ipython3",
   "version": "3.9.15"
  },
  "toc": {
   "base_numbering": 1,
   "nav_menu": {},
   "number_sections": false,
   "sideBar": true,
   "skip_h1_title": false,
   "title_cell": "Table of Contents",
   "title_sidebar": "Contents",
   "toc_cell": false,
   "toc_position": {},
   "toc_section_display": true,
   "toc_window_display": false
  }
 },
 "nbformat": 4,
 "nbformat_minor": 5
}
